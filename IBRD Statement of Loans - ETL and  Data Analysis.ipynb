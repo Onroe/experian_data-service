{
 "cells": [
  {
   "cell_type": "code",
   "execution_count": 1,
   "id": "be19b4f9",
   "metadata": {},
   "outputs": [],
   "source": [
    "import pandas as pd\n",
    "import numpy as np\n",
    "import win32com.client\n",
    "import re\n",
    "import datetime\n",
    "import os\n",
    "from dotenv import load_dotenv\n",
    "load_dotenv()\n",
    "import sqlalchemy\n",
    "import mysql.connector"
   ]
  },
  {
   "cell_type": "markdown",
   "id": "a0a79a02",
   "metadata": {},
   "source": [
    "1. ####  Create file with list of required packages"
   ]
  },
  {
   "cell_type": "code",
   "execution_count": 2,
   "id": "72786acc",
   "metadata": {},
   "outputs": [],
   "source": [
    "with open('requirements.txt', 'w') as f:\n",
    "    f.write('\\n'.join(f'{m.__name__}=={m.__version__}' for m in globals().values() if getattr(m, '__version__', None)))"
   ]
  },
  {
   "cell_type": "code",
   "execution_count": null,
   "id": "03b1df97",
   "metadata": {},
   "outputs": [],
   "source": []
  },
  {
   "cell_type": "markdown",
   "id": "81d90ce7",
   "metadata": {},
   "source": [
    "2. #### Downlaod email attachment"
   ]
  },
  {
   "cell_type": "code",
   "execution_count": 3,
   "id": "bbe1fc23",
   "metadata": {},
   "outputs": [],
   "source": [
    "def read_email():\n",
    "    outlook_mail_client = win32com.client.Dispatch('Outlook.Application').GetNamespace('MAPI')\n",
    "    inbox = outlook_mail_client.GetDefaultFolder(6)\n",
    "    messages = inbox.Items\n",
    "    path = 'E:/ACTIVE/Python/experian_data-service'\n",
    "    message = messages.GetFirst()\n",
    "    today_date = str(datetime.date.today())\n",
    "    while True:\n",
    "        try:\n",
    "            email_subject = 'SUBJECT-TITLE'\n",
    "            subject = str(message.Subject).lower()\n",
    "\n",
    "           # Search email with subject\n",
    "\n",
    "            if re.search(email_subject, subject) != None:\n",
    "                attachments = message.Attachments\n",
    "                attachment = str(attachments.Item(1)).lower()\n",
    "                attachment.SaveASFile(path + '\\\\' + attachment_name)\n",
    "            else:\n",
    "                pass\n",
    "            message = messages.GetNext()\n",
    "        except:\n",
    "            message = messages.GetNext()\n",
    "    exit"
   ]
  },
  {
   "cell_type": "code",
   "execution_count": 4,
   "id": "c5acd000",
   "metadata": {},
   "outputs": [],
   "source": [
    "#read_email()"
   ]
  },
  {
   "cell_type": "markdown",
   "id": "10568560",
   "metadata": {},
   "source": [
    "4. #### Read IBRD dataset"
   ]
  },
  {
   "cell_type": "code",
   "execution_count": 5,
   "id": "2952b339",
   "metadata": {},
   "outputs": [],
   "source": [
    "def read_data(filename):\n",
    "    if filename.endswith('csv'):\n",
    "        df = pd.read_csv(filename)\n",
    "    return df"
   ]
  },
  {
   "cell_type": "code",
   "execution_count": 6,
   "id": "438643f6",
   "metadata": {},
   "outputs": [],
   "source": [
    "filepath = os.getenv('file_path')\n",
    "filename = os.environ.get('file_name')\n",
    "data =  read_data(filepath+filename)"
   ]
  },
  {
   "cell_type": "code",
   "execution_count": 7,
   "id": "fdbfe782",
   "metadata": {},
   "outputs": [
    {
     "name": "stdout",
     "output_type": "stream",
     "text": [
      "<class 'pandas.core.frame.DataFrame'>\n",
      "RangeIndex: 8986 entries, 0 to 8985\n",
      "Data columns (total 33 columns):\n",
      " #   Column                        Non-Null Count  Dtype  \n",
      "---  ------                        --------------  -----  \n",
      " 0   End of Period                 8986 non-null   object \n",
      " 1   Loan Number                   8986 non-null   object \n",
      " 2   Region                        8986 non-null   object \n",
      " 3   Country Code                  8984 non-null   object \n",
      " 4   Country                       8986 non-null   object \n",
      " 5   Borrower                      8929 non-null   object \n",
      " 6   Guarantor Country Code        8704 non-null   object \n",
      " 7   Guarantor                     8706 non-null   object \n",
      " 8   Loan Type                     8986 non-null   object \n",
      " 9   Loan Status                   8986 non-null   object \n",
      " 10  Interest Rate                 8865 non-null   float64\n",
      " 11  Currency of Commitment        0 non-null      float64\n",
      " 12  Project ID                    8660 non-null   object \n",
      " 13  Project Name                  8660 non-null   object \n",
      " 14  Original Principal Amount     8986 non-null   float64\n",
      " 15  Cancelled Amount              8986 non-null   float64\n",
      " 16  Undisbursed Amount            8986 non-null   float64\n",
      " 17  Disbursed Amount              8986 non-null   float64\n",
      " 18  Repaid to IBRD                8986 non-null   float64\n",
      " 19  Due to IBRD                   8986 non-null   float64\n",
      " 20  Exchange Adjustment           8986 non-null   float64\n",
      " 21  Borrower's Obligation         8986 non-null   float64\n",
      " 22  Sold 3rd Party                8986 non-null   float64\n",
      " 23  Repaid 3rd Party              8986 non-null   float64\n",
      " 24  Due 3rd Party                 8986 non-null   float64\n",
      " 25  Loans Held                    8986 non-null   float64\n",
      " 26  First Repayment Date          8923 non-null   object \n",
      " 27  Last Repayment Date           8924 non-null   object \n",
      " 28  Agreement Signing Date        8850 non-null   object \n",
      " 29  Board Approval Date           8986 non-null   object \n",
      " 30  Effective Date (Most Recent)  8909 non-null   object \n",
      " 31  Closed Date (Most Recent)     8978 non-null   object \n",
      " 32  Last Disbursement Date        5166 non-null   object \n",
      "dtypes: float64(14), object(19)\n",
      "memory usage: 2.3+ MB\n"
     ]
    }
   ],
   "source": [
    "data.info()"
   ]
  },
  {
   "cell_type": "code",
   "execution_count": 8,
   "id": "93d8421d",
   "metadata": {},
   "outputs": [
    {
     "data": {
      "text/plain": [
       "303"
      ]
     },
     "execution_count": 8,
     "metadata": {},
     "output_type": "execute_result"
    }
   ],
   "source": [
    "# 303 loans with zero principal\n",
    "zero_principal = data[data[\"Original Principal Amount\"] == 0].shape[0]\n",
    "zero_principal\n"
   ]
  },
  {
   "cell_type": "code",
   "execution_count": 9,
   "id": "3f3882b4",
   "metadata": {},
   "outputs": [
    {
     "data": {
      "text/plain": [
       "2437"
      ]
     },
     "execution_count": 9,
     "metadata": {},
     "output_type": "execute_result"
    }
   ],
   "source": [
    "# 2437 loans with zero interest\n",
    "zero_interest = data[data[\"Interest Rate\"] == 0].shape[0]\n",
    "zero_interest"
   ]
  },
  {
   "cell_type": "code",
   "execution_count": 10,
   "id": "c973ab25",
   "metadata": {},
   "outputs": [],
   "source": [
    "#Loan type and status summary\n",
    "loan_status = data['Loan Status'].value_counts()\n",
    "loan_type= data['Loan Type'].value_counts()"
   ]
  },
  {
   "cell_type": "code",
   "execution_count": null,
   "id": "403bc27b",
   "metadata": {},
   "outputs": [],
   "source": []
  },
  {
   "cell_type": "markdown",
   "id": "8e4f1394",
   "metadata": {},
   "source": [
    "5. #### Data cleaning"
   ]
  },
  {
   "cell_type": "code",
   "execution_count": 11,
   "id": "13ec951f",
   "metadata": {},
   "outputs": [],
   "source": [
    "# Convert date time fields from  object data type to datetime data type\n",
    "date_fields = ['End of Period', 'First Repayment Date', 'Last Repayment Date', 'Agreement Signing Date', 'Board Approval Date', 'Effective Date (Most Recent)', 'Closed Date (Most Recent)', 'Last Disbursement Date']\n",
    "for field in date_fields:\n",
    "    data[field] = pd.to_datetime(data[field])"
   ]
  },
  {
   "cell_type": "code",
   "execution_count": 12,
   "id": "235643e0",
   "metadata": {},
   "outputs": [
    {
     "data": {
      "text/html": [
       "<div>\n",
       "<style scoped>\n",
       "    .dataframe tbody tr th:only-of-type {\n",
       "        vertical-align: middle;\n",
       "    }\n",
       "\n",
       "    .dataframe tbody tr th {\n",
       "        vertical-align: top;\n",
       "    }\n",
       "\n",
       "    .dataframe thead th {\n",
       "        text-align: right;\n",
       "    }\n",
       "</style>\n",
       "<table border=\"1\" class=\"dataframe\">\n",
       "  <thead>\n",
       "    <tr style=\"text-align: right;\">\n",
       "      <th></th>\n",
       "      <th>End of Period</th>\n",
       "      <th>Loan Number</th>\n",
       "      <th>Region</th>\n",
       "      <th>Country Code</th>\n",
       "      <th>Country</th>\n",
       "      <th>Borrower</th>\n",
       "      <th>Guarantor Country Code</th>\n",
       "      <th>Guarantor</th>\n",
       "      <th>Loan Type</th>\n",
       "      <th>Loan Status</th>\n",
       "      <th>...</th>\n",
       "      <th>Repaid 3rd Party</th>\n",
       "      <th>Due 3rd Party</th>\n",
       "      <th>Loans Held</th>\n",
       "      <th>First Repayment Date</th>\n",
       "      <th>Last Repayment Date</th>\n",
       "      <th>Agreement Signing Date</th>\n",
       "      <th>Board Approval Date</th>\n",
       "      <th>Effective Date (Most Recent)</th>\n",
       "      <th>Closed Date (Most Recent)</th>\n",
       "      <th>Last Disbursement Date</th>\n",
       "    </tr>\n",
       "  </thead>\n",
       "  <tbody>\n",
       "    <tr>\n",
       "      <th>0</th>\n",
       "      <td>2020-11-30</td>\n",
       "      <td>IBRD00010</td>\n",
       "      <td>EUROPE AND CENTRAL ASIA</td>\n",
       "      <td>FR</td>\n",
       "      <td>France</td>\n",
       "      <td>CREDIT NATIONAL</td>\n",
       "      <td>FR</td>\n",
       "      <td>France</td>\n",
       "      <td>NPL</td>\n",
       "      <td>Fully Repaid</td>\n",
       "      <td>...</td>\n",
       "      <td>249962000.0</td>\n",
       "      <td>0.0</td>\n",
       "      <td>0.0</td>\n",
       "      <td>1952-11-01</td>\n",
       "      <td>1977-05-01</td>\n",
       "      <td>1947-05-09</td>\n",
       "      <td>1947-05-09</td>\n",
       "      <td>1947-06-09</td>\n",
       "      <td>1947-12-31</td>\n",
       "      <td>NaT</td>\n",
       "    </tr>\n",
       "    <tr>\n",
       "      <th>1</th>\n",
       "      <td>2020-11-30</td>\n",
       "      <td>IBRD00020</td>\n",
       "      <td>EUROPE AND CENTRAL ASIA</td>\n",
       "      <td>NL</td>\n",
       "      <td>Netherlands</td>\n",
       "      <td>NaN</td>\n",
       "      <td>NaN</td>\n",
       "      <td>NaN</td>\n",
       "      <td>NPL</td>\n",
       "      <td>Fully Repaid</td>\n",
       "      <td>...</td>\n",
       "      <td>87672000.0</td>\n",
       "      <td>0.0</td>\n",
       "      <td>0.0</td>\n",
       "      <td>1952-04-01</td>\n",
       "      <td>1972-10-01</td>\n",
       "      <td>1947-08-07</td>\n",
       "      <td>1947-08-07</td>\n",
       "      <td>1947-09-11</td>\n",
       "      <td>1948-03-31</td>\n",
       "      <td>NaT</td>\n",
       "    </tr>\n",
       "  </tbody>\n",
       "</table>\n",
       "<p>2 rows × 33 columns</p>\n",
       "</div>"
      ],
      "text/plain": [
       "  End of Period Loan Number                   Region Country Code  \\\n",
       "0    2020-11-30   IBRD00010  EUROPE AND CENTRAL ASIA           FR   \n",
       "1    2020-11-30   IBRD00020  EUROPE AND CENTRAL ASIA           NL   \n",
       "\n",
       "       Country         Borrower Guarantor Country Code Guarantor Loan Type  \\\n",
       "0       France  CREDIT NATIONAL                     FR    France       NPL   \n",
       "1  Netherlands              NaN                    NaN       NaN       NPL   \n",
       "\n",
       "    Loan Status  ...  Repaid 3rd Party  Due 3rd Party Loans Held  \\\n",
       "0  Fully Repaid  ...       249962000.0            0.0        0.0   \n",
       "1  Fully Repaid  ...        87672000.0            0.0        0.0   \n",
       "\n",
       "  First Repayment Date  Last Repayment Date  Agreement Signing Date  \\\n",
       "0           1952-11-01           1977-05-01              1947-05-09   \n",
       "1           1952-04-01           1972-10-01              1947-08-07   \n",
       "\n",
       "   Board Approval Date  Effective Date (Most Recent)  \\\n",
       "0           1947-05-09                    1947-06-09   \n",
       "1           1947-08-07                    1947-09-11   \n",
       "\n",
       "   Closed Date (Most Recent)  Last Disbursement Date  \n",
       "0                 1947-12-31                     NaT  \n",
       "1                 1948-03-31                     NaT  \n",
       "\n",
       "[2 rows x 33 columns]"
      ]
     },
     "execution_count": 12,
     "metadata": {},
     "output_type": "execute_result"
    }
   ],
   "source": [
    "data.head(2)"
   ]
  },
  {
   "cell_type": "code",
   "execution_count": 13,
   "id": "8840b92e",
   "metadata": {},
   "outputs": [
    {
     "name": "stdout",
     "output_type": "stream",
     "text": [
      "<class 'pandas.core.frame.DataFrame'>\n",
      "RangeIndex: 8986 entries, 0 to 8985\n",
      "Data columns (total 33 columns):\n",
      " #   Column                        Non-Null Count  Dtype         \n",
      "---  ------                        --------------  -----         \n",
      " 0   End of Period                 8986 non-null   datetime64[ns]\n",
      " 1   Loan Number                   8986 non-null   object        \n",
      " 2   Region                        8986 non-null   object        \n",
      " 3   Country Code                  8984 non-null   object        \n",
      " 4   Country                       8986 non-null   object        \n",
      " 5   Borrower                      8929 non-null   object        \n",
      " 6   Guarantor Country Code        8704 non-null   object        \n",
      " 7   Guarantor                     8706 non-null   object        \n",
      " 8   Loan Type                     8986 non-null   object        \n",
      " 9   Loan Status                   8986 non-null   object        \n",
      " 10  Interest Rate                 8865 non-null   float64       \n",
      " 11  Currency of Commitment        0 non-null      float64       \n",
      " 12  Project ID                    8660 non-null   object        \n",
      " 13  Project Name                  8660 non-null   object        \n",
      " 14  Original Principal Amount     8986 non-null   float64       \n",
      " 15  Cancelled Amount              8986 non-null   float64       \n",
      " 16  Undisbursed Amount            8986 non-null   float64       \n",
      " 17  Disbursed Amount              8986 non-null   float64       \n",
      " 18  Repaid to IBRD                8986 non-null   float64       \n",
      " 19  Due to IBRD                   8986 non-null   float64       \n",
      " 20  Exchange Adjustment           8986 non-null   float64       \n",
      " 21  Borrower's Obligation         8986 non-null   float64       \n",
      " 22  Sold 3rd Party                8986 non-null   float64       \n",
      " 23  Repaid 3rd Party              8986 non-null   float64       \n",
      " 24  Due 3rd Party                 8986 non-null   float64       \n",
      " 25  Loans Held                    8986 non-null   float64       \n",
      " 26  First Repayment Date          8923 non-null   datetime64[ns]\n",
      " 27  Last Repayment Date           8924 non-null   datetime64[ns]\n",
      " 28  Agreement Signing Date        8850 non-null   datetime64[ns]\n",
      " 29  Board Approval Date           8986 non-null   datetime64[ns]\n",
      " 30  Effective Date (Most Recent)  8909 non-null   datetime64[ns]\n",
      " 31  Closed Date (Most Recent)     8978 non-null   datetime64[ns]\n",
      " 32  Last Disbursement Date        5166 non-null   datetime64[ns]\n",
      "dtypes: datetime64[ns](8), float64(14), object(11)\n",
      "memory usage: 2.3+ MB\n"
     ]
    }
   ],
   "source": [
    "data.info()"
   ]
  },
  {
   "cell_type": "code",
   "execution_count": 14,
   "id": "b2938634",
   "metadata": {},
   "outputs": [],
   "source": [
    "def  connect_database():\n",
    "    \n",
    "        engine_stmt = 'mysql+pymysql://root:@localhost/test'\n",
    "        engine = sqlalchemy.create_engine(engine_stmt)\n",
    "        conn = mysql.connector.connect(user='root', password='', host='127.0.0.1', database='test')\n",
    "        return conn    "
   ]
  },
  {
   "cell_type": "code",
   "execution_count": 19,
   "id": "469e8582",
   "metadata": {},
   "outputs": [],
   "source": [
    "def  country_data():\n",
    "        engine = connect_database()\n",
    "        country_df = data[['Country', 'Region', 'Country Code']].drop_duplicates(subset=\"Country Code\")\n",
    "        historical_data = pd.read_sql(\"SELECT country FROM experian_country\",engine)\n",
    "        new_data = country_df[~country_df['Country'].isin(historical_data['country'].tolist())].fillna(\"---\")\n",
    "        return new_data"
   ]
  },
  {
   "cell_type": "code",
   "execution_count": 21,
   "id": "5b6a6022",
   "metadata": {},
   "outputs": [],
   "source": [
    "def  country_service():\n",
    "        country_dataframe = country_data()\n",
    "        connection = connect_database()\n",
    "        cursor = connection.cursor()\n",
    "        for i,row in country_dataframe.iterrows():\n",
    "            sql = \"INSERT INTO experian_country (`country`, `region`, `country_code`)\" \" VALUES (%s,%s,%s )\"\n",
    "            values = (row[0], row[1], row[2])\n",
    "            cursor.execute(sql, tuple(values)) \n",
    "            connection.commit()"
   ]
  },
  {
   "cell_type": "code",
   "execution_count": 22,
   "id": "d2139e72",
   "metadata": {},
   "outputs": [],
   "source": [
    "#country_service()"
   ]
  },
  {
   "cell_type": "code",
   "execution_count": null,
   "id": "3fd6a630",
   "metadata": {},
   "outputs": [],
   "source": []
  }
 ],
 "metadata": {
  "kernelspec": {
   "display_name": "Python 3 (ipykernel)",
   "language": "python",
   "name": "python3"
  },
  "language_info": {
   "codemirror_mode": {
    "name": "ipython",
    "version": 3
   },
   "file_extension": ".py",
   "mimetype": "text/x-python",
   "name": "python",
   "nbconvert_exporter": "python",
   "pygments_lexer": "ipython3",
   "version": "3.9.7"
  }
 },
 "nbformat": 4,
 "nbformat_minor": 5
}
